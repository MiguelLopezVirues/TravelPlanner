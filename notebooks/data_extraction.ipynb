{
 "cells": [
  {
   "cell_type": "markdown",
   "metadata": {},
   "source": [
    "# 0. Imports"
   ]
  },
  {
   "cell_type": "code",
   "execution_count": 1,
   "metadata": {},
   "outputs": [],
   "source": [
    "from bs4 import BeautifulSoup\n",
    "\n",
    "import requests\n",
    "\n",
    "import pandas as pd\n",
    "import numpy as np\n",
    "\n",
    "from time import sleep\n",
    "\n",
    "from selenium import webdriver \n",
    "from webdriver_manager.chrome import ChromeDriverManager  \n",
    "from selenium.webdriver.common.keys import Keys  \n",
    "from selenium.webdriver.support.ui import Select \n",
    "from selenium.webdriver.support.ui import WebDriverWait\n",
    "from selenium.webdriver.support import expected_conditions as EC\n",
    "from selenium.common.exceptions import NoSuchElementException \n",
    "\n",
    "from geopy.geocoders import Nominatim\n",
    "geolocator = Nominatim(user_agent=\"my-geopy-app\")\n",
    "import random\n",
    "import re\n",
    "import datetime\n",
    "import json\n",
    "import math\n",
    "\n",
    "# import suppor functions\n",
    "import sys \n",
    "sys.path.append(\"..\")\n",
    "from src.data_extraction_support import extract_all_activities"
   ]
  },
  {
   "cell_type": "markdown",
   "metadata": {},
   "source": [
    "# 1. Scraping the different informations"
   ]
  },
  {
   "cell_type": "markdown",
   "metadata": {},
   "source": [
    "For this project, our clients requested that we organise and plan their holiday, including flight, accommodation and activities suggestions according to the following restrictions:\n",
    "- Holiday dates must be from Friday 8th to Sunday 17th November. \n",
    "- Flights should be direct from Madrid to Paris, on the 8th November, to Berlin on the 13th and back to Madrid on the 17th.\n",
    "- Accommodation must be under 100 euros per night for a couple\n",
    "- Total activity budget is X\n",
    "- Activities should be about X, Y and Z\n",
    "- Activities suggested should not overlap"
   ]
  },
  {
   "cell_type": "markdown",
   "metadata": {},
   "source": [
    "## Activities"
   ]
  },
  {
   "cell_type": "markdown",
   "metadata": {},
   "source": [
    "As a first option, the range of activities proposed to our clients will come from the Civitatis catalog. If needed, more catalogs will be built on top of it to make it more compelling."
   ]
  },
  {
   "cell_type": "markdown",
   "metadata": {},
   "source": [
    "## 3. Civitatis - scraping"
   ]
  },
  {
   "cell_type": "markdown",
   "metadata": {},
   "source": [
    "\n",
    "As for the information to extract from civitatis, the requirements are:\n",
    "- Total activity budget is X\n",
    "- Activities should be about X, Y and Z\n",
    "- Activities suggested should not overlap\n",
    "\n",
    "Therefore, the fields to be extracted should ideally be, at least:\n",
    "- Date [X]\n",
    "- Time [X]\n",
    "- Address [X]\n",
    "- Duration [X]\n",
    "- Price [X]\n",
    "- Name [X]\n",
    "- Description [X]\n",
    "- Category [X]\n",
    "- Image [X]\n",
    "- URL [X]\n",
    "- Score (optional)\n",
    "- Score (optional)\n",
    "- Reviews (Optional)\n",
    "- Language (Optional)"
   ]
  },
  {
   "cell_type": "markdown",
   "metadata": {},
   "source": []
  }
 ],
 "metadata": {
  "kernelspec": {
   "display_name": "3._Travel_planning-pO_WbS_m",
   "language": "python",
   "name": "python3"
  },
  "language_info": {
   "codemirror_mode": {
    "name": "ipython",
    "version": 3
   },
   "file_extension": ".py",
   "mimetype": "text/x-python",
   "name": "python",
   "nbconvert_exporter": "python",
   "pygments_lexer": "ipython3",
   "version": "3.11.4"
  }
 },
 "nbformat": 4,
 "nbformat_minor": 2
}
